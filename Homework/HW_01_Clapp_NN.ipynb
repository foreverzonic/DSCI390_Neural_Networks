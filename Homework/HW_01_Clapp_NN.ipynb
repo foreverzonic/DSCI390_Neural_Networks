{
 "cells": [
  {
   "cell_type": "markdown",
   "metadata": {},
   "source": [
    "## Homework 01\n",
    "\n",
    "**David Clapp**\n",
    "\n",
    "**DSCI 39001 - Neural Networks**\n",
    "\n",
    "**Due Friday, Jan. 25, 9 AM**"
   ]
  },
  {
   "cell_type": "markdown",
   "metadata": {},
   "source": [
    "This assignment is intended to give you practice working with NumPy arrays. The following resources are useful references for NumPy.\n",
    "* [Python Data Science Handbook, Chapter 2](https://jakevdp.github.io/PythonDataScienceHandbook/)\n",
    "* [DataCamp: Introduction to Python, Chapter 4](https://www.datacamp.com/courses/intro-to-python-for-data-science)\n",
    "\n",
    "In the cell below, import NumPy under the alias `np`. "
   ]
  },
  {
   "cell_type": "code",
   "execution_count": 1,
   "metadata": {},
   "outputs": [],
   "source": [
    "import numpy as np"
   ]
  },
  {
   "cell_type": "markdown",
   "metadata": {},
   "source": [
    "### Part A - Creating 2D Numpy Arrays\n",
    "\n",
    "Create 2D NumPy arrays `A`, `B`, `C`, and `D` representing the matrices shown below. The following DataCamp video provides an example of how to do this: [2D NumPy Arrays](https://campus.datacamp.com/courses/intro-to-python-for-data-science/chapter-4-numpy?ex=8).\n",
    "\n",
    "$\n",
    "A = \\left[ {\\begin{array}{cc} 3 & 9 & 8 & 7 \\\\ 6 & 8 & 2 & 1 \\\\ \\end{array} } \\right] \\hspace{1cm}\n",
    "B = \\left[ {\\begin{array}{cc} 8 & 3 & 9 \\\\ 8 & 5 & 5 \\\\ 7 & 4 & 1 \\\\ 3 & 4 & 5 \\\\ \\end{array} } \\right] \\hspace{1cm}\n",
    "C = \\left[ {\\begin{array}{cc} 5 & 3 & 7 \\\\ 9 & 3 & 1 \\\\ 8 & 5 & 2 \\\\ \\end{array} } \\right]\n",
    "D = \\left[ {\\begin{array}{cc} 6 & 5 & 7 \\\\ 3 & 5 & 8 \\\\ \\end{array} } \\right] \\hspace{1cm}\n",
    "$\n",
    "\n",
    "Print all four arrays. Display a blank line between the printout of each pair of arrays."
   ]
  },
  {
   "cell_type": "code",
   "execution_count": 2,
   "metadata": {},
   "outputs": [
    {
     "name": "stdout",
     "output_type": "stream",
     "text": [
      "[[3 9 8 7]\n",
      " [6 8 2 1]]\n",
      "\n",
      "[[8 3 9]\n",
      " [8 5 5]\n",
      " [7 4 1]\n",
      " [3 4 5]]\n",
      "\n",
      "[[5 3 7]\n",
      " [9 3 1]\n",
      " [8 5 2]]\n",
      "\n",
      "[[6 5 7]\n",
      " [3 5 8]]\n"
     ]
    }
   ],
   "source": [
    "A = np.array([[3, 9, 8, 7], [6, 8, 2, 1]])\n",
    "B = np.array([[8, 3, 9],[8, 5, 5],[7, 4, 1],[3, 4, 5]])\n",
    "C = np.array([[5, 3, 7],[9, 3, 1],[8, 5, 2]])\n",
    "D = np.array([[6, 5, 7],[3, 5, 8]])\n",
    "print(A)\n",
    "print()\n",
    "print(B)\n",
    "print()\n",
    "print(C)\n",
    "print()\n",
    "print(D)"
   ]
  },
  {
   "cell_type": "markdown",
   "metadata": {},
   "source": [
    "### Part B: Array Concatenation\n",
    "\n",
    "The `hstack` and `vstack` NumPy functions are useful for concatenating NumPy Arrays. You can see a short demonstration of the the usage of these functions in [this video](https://www.youtube.com/watch?v=ksqPbrS-b78). \n",
    "\n",
    "Stack the two arrays `A` and `D` side-by-side with `A` to the left of `D`, printing the result. You should get a NumPy array that represents the following matrix:\n",
    "\n",
    "$\\left[ {\\begin{array}{cc} 3 & 9 & 8 & 7 & 6 & 5 & 7 \\\\ 6 & 8 & 2 & 1 & 3 & 5 & 8 \\\\ \\end{array} } \\right] $\n",
    "\n"
   ]
  },
  {
   "cell_type": "code",
   "execution_count": 3,
   "metadata": {
    "scrolled": true
   },
   "outputs": [
    {
     "data": {
      "text/plain": [
       "array([[3, 9, 8, 7, 6, 5, 7],\n",
       "       [6, 8, 2, 1, 3, 5, 8]])"
      ]
     },
     "execution_count": 3,
     "metadata": {},
     "output_type": "execute_result"
    }
   ],
   "source": [
    "np.hstack((A,D))"
   ]
  },
  {
   "cell_type": "markdown",
   "metadata": {},
   "source": [
    "Stack the arrays `B`, `C`, and `D` vertically, in that order from top to bottom, printing the result. You should get a NumPy array that represents the following matrix:\n",
    "\n",
    "$\\left[ {\\begin{array}{cc} \n",
    "8 & 3 & 9 \\\\ 8 & 5 & 5 \\\\ 7 & 4 & 1 \\\\ 3 & 4 & 5 \\\\ 5 & 3 & 7 \\\\ 9 & 3 & 1 \\\\ 8 & 5 & 2 \\\\ 6 & 5 & 7 \\\\ 3 & 5 & 8 \\\\ \n",
    "\\end{array} } \\right] $"
   ]
  },
  {
   "cell_type": "code",
   "execution_count": 4,
   "metadata": {},
   "outputs": [
    {
     "data": {
      "text/plain": [
       "array([[8, 3, 9],\n",
       "       [8, 5, 5],\n",
       "       [7, 4, 1],\n",
       "       [3, 4, 5],\n",
       "       [5, 3, 7],\n",
       "       [9, 3, 1],\n",
       "       [8, 5, 2],\n",
       "       [6, 5, 7],\n",
       "       [3, 5, 8]])"
      ]
     },
     "execution_count": 4,
     "metadata": {},
     "output_type": "execute_result"
    }
   ],
   "source": [
    "np.vstack((B,C,D))"
   ]
  },
  {
   "cell_type": "markdown",
   "metadata": {},
   "source": [
    "### Part C: Matrix Multiplication\n",
    "\n",
    "The default arithmetic operations on NumPy arrays perform element-wise operations. You can get the standard matrix product of two matrices represented by 2D arrays `P` and `Q` using `np.dot(P,Q)`. \n",
    "\n",
    "In Part A, we represented four different matrices with arrays. We could consider up to 16 possible matrix products of these matrices (assuming we consider the product of each matrix with itself). Some of these matrices will not be defined. \n",
    "\n",
    "In the cell below, calculate and print out the result of each matrix multiplication for which the product is actually defined. Immediately about each product, explain which matrices are being multiplied by printing a string with the following format: **`P x Q =`**. Use a new code cell for each matrix product. You can create a new cell by selecting a cell (clicking to the left of it) and typing `a` or `b`."
   ]
  },
  {
   "cell_type": "code",
   "execution_count": 5,
   "metadata": {},
   "outputs": [
    {
     "name": "stdout",
     "output_type": "stream",
     "text": [
      "A x B =  [[173 114 115]\n",
      " [129  70 101]]\n"
     ]
    }
   ],
   "source": [
    "print('A x B = ', np.dot(A,B))"
   ]
  },
  {
   "cell_type": "code",
   "execution_count": 6,
   "metadata": {},
   "outputs": [
    {
     "name": "stdout",
     "output_type": "stream",
     "text": [
      "B x C =  [[139  78  77]\n",
      " [125  64  71]\n",
      " [ 79  38  55]\n",
      " [ 91  46  35]]\n"
     ]
    }
   ],
   "source": [
    "print('B x C = ', np.dot(B,C))"
   ]
  },
  {
   "cell_type": "code",
   "execution_count": 7,
   "metadata": {},
   "outputs": [
    {
     "name": "stdout",
     "output_type": "stream",
     "text": [
      "C x C =  [[108  59  52]\n",
      " [ 80  41  68]\n",
      " [101  49  65]]\n"
     ]
    }
   ],
   "source": [
    "print('C x C = ', np.dot(C,C))"
   ]
  },
  {
   "cell_type": "code",
   "execution_count": 8,
   "metadata": {},
   "outputs": [
    {
     "name": "stdout",
     "output_type": "stream",
     "text": [
      "D x C =  [[131  68  61]\n",
      " [124  64  42]]\n"
     ]
    }
   ],
   "source": [
    "print('D x C = ', np.dot(D,C))"
   ]
  },
  {
   "cell_type": "markdown",
   "metadata": {},
   "source": [
    "### Part D: Array Shape\n",
    "\n",
    "Every NumPy has a shape attribute that tells you the number of dimensions of the array, as well as the size of the array along each of its axis. The shape of an array can be accessed using `my_array.shape`. \n",
    "\n",
    "The cell below creates a randomly generated 2D array `W`. Add a line to this cell to print the shape of `W`. Your result will change every time you run this cell. "
   ]
  },
  {
   "cell_type": "code",
   "execution_count": 9,
   "metadata": {},
   "outputs": [
    {
     "name": "stdout",
     "output_type": "stream",
     "text": [
      "(25, 19)\n"
     ]
    }
   ],
   "source": [
    "size = np.random.choice(range(100), 2)\n",
    "W = np.random.uniform(0, 1, size)\n",
    "del size\n",
    "\n",
    "print(W.shape)"
   ]
  },
  {
   "cell_type": "markdown",
   "metadata": {},
   "source": [
    "Four arrays are defined in the cell below. For each array, print the shape of the array, followed (on a seperate line) by the contents of that array. Use a different cell for each of the four arrays. \n",
    "     \n",
    "Make sure you understand why each array has the shape that is reported. "
   ]
  },
  {
   "cell_type": "code",
   "execution_count": 10,
   "metadata": {},
   "outputs": [],
   "source": [
    "F1 = np.array([1, 2, 3, 4])\n",
    "F2 = np.array([[1, 2, 3, 4]])\n",
    "F3 = np.array([[1, 2], [3, 4]])\n",
    "F4 = np.array([[1], [2], [3], [4]])"
   ]
  },
  {
   "cell_type": "code",
   "execution_count": 11,
   "metadata": {},
   "outputs": [
    {
     "name": "stdout",
     "output_type": "stream",
     "text": [
      "(4,)\n",
      "[1 2 3 4]\n"
     ]
    }
   ],
   "source": [
    "print(F1.shape)\n",
    "print(F1)"
   ]
  },
  {
   "cell_type": "code",
   "execution_count": 12,
   "metadata": {},
   "outputs": [
    {
     "name": "stdout",
     "output_type": "stream",
     "text": [
      "(1, 4)\n",
      "[[1 2 3 4]]\n"
     ]
    }
   ],
   "source": [
    "print(F2.shape)\n",
    "print(F2)"
   ]
  },
  {
   "cell_type": "code",
   "execution_count": 13,
   "metadata": {},
   "outputs": [
    {
     "name": "stdout",
     "output_type": "stream",
     "text": [
      "(2, 2)\n",
      "[[1 2]\n",
      " [3 4]]\n"
     ]
    }
   ],
   "source": [
    "print(F3.shape)\n",
    "print(F3)"
   ]
  },
  {
   "cell_type": "code",
   "execution_count": 14,
   "metadata": {},
   "outputs": [
    {
     "name": "stdout",
     "output_type": "stream",
     "text": [
      "(4, 1)\n",
      "[[1]\n",
      " [2]\n",
      " [3]\n",
      " [4]]\n"
     ]
    }
   ],
   "source": [
    "print(F4.shape)\n",
    "print(F4)"
   ]
  },
  {
   "cell_type": "markdown",
   "metadata": {},
   "source": [
    "We can use the `reshape` function to generate a copy of an array with the same contents, but with a different shape. Some examples of `reshape` can be found on [this page](https://www.geeksforgeeks.org/numpy-reshape-python/). \n",
    "\n",
    "In the cell below, we create a 1D array with 24 randomly generated entries. In other words, this array has shape `(24,)`. Reshape this array in three different ways, printing the results each time. In particular:\n",
    "* Reshape the array to one with 2 rows.\n",
    "* Reshape the array to one with 3 rows.\n",
    "* Reshape the array to one with 4 rows.\n",
    "\n",
    "Print a blank link between each pair of arrays displayed. "
   ]
  },
  {
   "cell_type": "code",
   "execution_count": 15,
   "metadata": {
    "scrolled": true
   },
   "outputs": [
    {
     "name": "stdout",
     "output_type": "stream",
     "text": [
      "[[1.7 2.9 0.  1.2 0.6 0.4 0.7 1.4 1.6 2.2 1.7 2.7]\n",
      " [0.8 3.5 0.1 2.7 1.7 2.2 0.6 0.8 3.2 3.9 1.3 2.8]]\n",
      "\n",
      "[[1.7 2.9 0.  1.2 0.6 0.4 0.7 1.4]\n",
      " [1.6 2.2 1.7 2.7 0.8 3.5 0.1 2.7]\n",
      " [1.7 2.2 0.6 0.8 3.2 3.9 1.3 2.8]]\n",
      "\n",
      "[[1.7 2.9 0.  1.2 0.6 0.4]\n",
      " [0.7 1.4 1.6 2.2 1.7 2.7]\n",
      " [0.8 3.5 0.1 2.7 1.7 2.2]\n",
      " [0.6 0.8 3.2 3.9 1.3 2.8]]\n"
     ]
    }
   ],
   "source": [
    "np.random.seed(1)\n",
    "M = np.random.uniform(0, 4, 24)\n",
    "M = np.round(M, 1)\n",
    "print(M.reshape(2, 12))\n",
    "print()\n",
    "print(M.reshape(3, 8))\n",
    "print()\n",
    "print(M.reshape(4, 6))"
   ]
  },
  {
   "cell_type": "markdown",
   "metadata": {},
   "source": [
    "In the following cell, we create three randomly generated arrays: `P1` has shape `(15,)`, `P2` has shape `(18,)`, and `P3` has shape `(24,)`. There are also lines of code that are intended to calculate matrix products of reshaped versions of these arrays. Replace the blanks within the `reshape` functions so that the matrix products are defined. "
   ]
  },
  {
   "cell_type": "code",
   "execution_count": 16,
   "metadata": {
    "scrolled": true
   },
   "outputs": [
    {
     "name": "stdout",
     "output_type": "stream",
     "text": [
      "[[120 101  92 107 126 133]\n",
      " [ 10  20  35  35  45   5]\n",
      " [ 87  58  55  70  78  98]\n",
      " [ 56  72  79  81 103  55]\n",
      " [ 48  56  51  53  67  51]]\n",
      "\n",
      "[[138 178 111  71]\n",
      " [189 228 149 129]\n",
      " [147 135 129 153]]\n",
      "\n",
      "[[ 58 103 138  76  63]\n",
      " [ 46  83 136  88  75]\n",
      " [ 32  57  94  62  49]\n",
      " [ 53  91 122  71  43]\n",
      " [ 48  81  99  54  25]\n",
      " [ 18  39  66  36  63]\n",
      " [ 18  32  38  18  16]\n",
      " [ 59 102 130  71  46]]\n"
     ]
    }
   ],
   "source": [
    "np.random.seed(1)\n",
    "\n",
    "P1 = np.random.choice(range(10), 15)\n",
    "P2 = np.random.choice(range(10), 18)\n",
    "P3 = np.random.choice(range(10), 24)\n",
    "\n",
    "print(np.dot(P1.reshape(5,3), P2.reshape(3,6)))\n",
    "print()\n",
    "print(np.dot(P2.reshape(3,6), P3.reshape(6,4)))\n",
    "print()\n",
    "print(np.dot(P3.reshape(8,3), P1.reshape(3,5)))\n"
   ]
  },
  {
   "cell_type": "markdown",
   "metadata": {},
   "source": [
    "### Part E: Array Sums\n",
    "\n",
    "We can use the function `np.sum` to sum the contents of an array, or two sum an array along one of its axes. An explanation of this function (with examples) can be found here: [How to use the NumPy Sum Function](https://www.sharpsightlabs.com/blog/numpy-sum/).\n",
    "\n",
    "In the cell below, we define a randomly generated array with shape `(4,6)`. Print this array. "
   ]
  },
  {
   "cell_type": "code",
   "execution_count": 17,
   "metadata": {},
   "outputs": [],
   "source": [
    "np.random.seed(1)\n",
    "X = np.random.choice(range(10), 24).reshape(4,6)\n"
   ]
  },
  {
   "cell_type": "markdown",
   "metadata": {},
   "source": [
    "Print the sum of all of the elements in `X`. "
   ]
  },
  {
   "cell_type": "code",
   "execution_count": 18,
   "metadata": {},
   "outputs": [
    {
     "name": "stdout",
     "output_type": "stream",
     "text": [
      "110\n",
      "[[5 8 9 5 0 0]\n",
      " [1 7 6 9 2 4]\n",
      " [5 2 4 2 4 7]\n",
      " [7 9 1 7 0 6]]\n"
     ]
    }
   ],
   "source": [
    "print(np.sum(a = X))\n",
    "print(X)"
   ]
  },
  {
   "cell_type": "markdown",
   "metadata": {},
   "source": [
    "Print an array containing the sums of the rows of `X`."
   ]
  },
  {
   "cell_type": "code",
   "execution_count": 19,
   "metadata": {},
   "outputs": [
    {
     "name": "stdout",
     "output_type": "stream",
     "text": [
      "[27 29 24 30]\n"
     ]
    }
   ],
   "source": [
    "print(np.sum(a = X, axis = 1))"
   ]
  },
  {
   "cell_type": "markdown",
   "metadata": {},
   "source": [
    "Print an array containing the sums of the columns of `X`."
   ]
  },
  {
   "cell_type": "code",
   "execution_count": 20,
   "metadata": {},
   "outputs": [
    {
     "name": "stdout",
     "output_type": "stream",
     "text": [
      "[18 26 20 23  6 17]\n"
     ]
    }
   ],
   "source": [
    "print(np.sum(a = X, axis = 0))"
   ]
  }
 ],
 "metadata": {
  "kernelspec": {
   "display_name": "Python 3",
   "language": "python",
   "name": "python3"
  },
  "language_info": {
   "codemirror_mode": {
    "name": "ipython",
    "version": 3
   },
   "file_extension": ".py",
   "mimetype": "text/x-python",
   "name": "python",
   "nbconvert_exporter": "python",
   "pygments_lexer": "ipython3",
   "version": "3.6.8"
  }
 },
 "nbformat": 4,
 "nbformat_minor": 2
}
