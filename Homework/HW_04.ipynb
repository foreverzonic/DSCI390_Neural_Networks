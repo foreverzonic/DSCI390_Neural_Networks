{
 "cells": [
  {
   "cell_type": "code",
   "execution_count": 1,
   "metadata": {},
   "outputs": [],
   "source": [
    "import numpy as np"
   ]
  },
  {
   "cell_type": "code",
   "execution_count": 2,
   "metadata": {},
   "outputs": [],
   "source": [
    "X = np.array([[1, 5],[6, 2]])"
   ]
  },
  {
   "cell_type": "code",
   "execution_count": 3,
   "metadata": {},
   "outputs": [],
   "source": [
    "w1 = np.array([[0.4, 0.2, 0.2, 0.4],\n",
    "              [-0.5, -0.3, 0.3, 0.3],\n",
    "              [0.5, -0.4, -0.2, 0.2]])\n",
    "\n",
    "w2 = np.array([[0.5, 0, -0.1],\n",
    "              [0, 0.4, -0.2],\n",
    "              [0.5, -0.4, 0],\n",
    "              [-0.4, 0.3, 0],\n",
    "              [0, 0.2, 0.3]])\n",
    "\n",
    "w3 = np.array([[0.1, -0.3, 0.1],\n",
    "              [0.5, 0.1, -0.4],\n",
    "              [0.4, 0, 0.2],\n",
    "              [-0.3, 0.1, 0.5]])"
   ]
  },
  {
   "cell_type": "code",
   "execution_count": 4,
   "metadata": {},
   "outputs": [
    {
     "name": "stdout",
     "output_type": "stream",
     "text": [
      "[[1 1 5]\n",
      " [1 6 2]]\n"
     ]
    }
   ],
   "source": [
    "# add a column of 1's for the biased term.\n",
    "bias = np.array([[1],[1]])\n",
    "X_biased = np.hstack((bias, X))\n",
    "print(X_biased)"
   ]
  },
  {
   "cell_type": "code",
   "execution_count": 5,
   "metadata": {},
   "outputs": [
    {
     "name": "stdout",
     "output_type": "stream",
     "text": [
      "[[ 2.4 -2.1 -0.5  1.7]\n",
      " [-1.6 -2.4  1.6  2.6]]\n"
     ]
    }
   ],
   "source": [
    "# multiply the X_biased matrix with the w1 matrix.\n",
    "z1 = np.dot(X_biased, w1)\n",
    "print(z1)"
   ]
  },
  {
   "cell_type": "code",
   "execution_count": 6,
   "metadata": {},
   "outputs": [],
   "source": [
    "# relu function.\n",
    "def ReLU(x):\n",
    "    return abs(x * (x > 0))"
   ]
  },
  {
   "cell_type": "code",
   "execution_count": 7,
   "metadata": {},
   "outputs": [
    {
     "name": "stdout",
     "output_type": "stream",
     "text": [
      "[[2.4 0.  0.  1.7]\n",
      " [0.  0.  1.6 2.6]]\n"
     ]
    }
   ],
   "source": [
    "# run the z1 matrix through the relu function.\n",
    "a1 = ReLU(z1)\n",
    "print(a1)"
   ]
  },
  {
   "cell_type": "code",
   "execution_count": 8,
   "metadata": {},
   "outputs": [
    {
     "name": "stdout",
     "output_type": "stream",
     "text": [
      "[[1.  2.4 0.  0.  1.7]\n",
      " [1.  0.  0.  1.6 2.6]]\n"
     ]
    }
   ],
   "source": [
    "# add a column of 1's for the biased term.\n",
    "a1_biased = np.hstack((bias, a1))\n",
    "print(a1_biased)"
   ]
  },
  {
   "cell_type": "code",
   "execution_count": 9,
   "metadata": {},
   "outputs": [
    {
     "name": "stdout",
     "output_type": "stream",
     "text": [
      "[[ 0.5   1.3  -0.07]\n",
      " [-0.14  1.    0.68]]\n"
     ]
    }
   ],
   "source": [
    "# multiply the a1_biased matrix with the w2 matrix.\n",
    "z2 = np.dot(a1_biased, w2)\n",
    "print(z2)"
   ]
  },
  {
   "cell_type": "code",
   "execution_count": 10,
   "metadata": {},
   "outputs": [
    {
     "name": "stdout",
     "output_type": "stream",
     "text": [
      "[[0.5  1.3  0.  ]\n",
      " [0.   1.   0.68]]\n"
     ]
    }
   ],
   "source": [
    "# run the z2 matrix through the relu function.\n",
    "a2 = ReLU(z2)\n",
    "print(a2)"
   ]
  },
  {
   "cell_type": "code",
   "execution_count": 11,
   "metadata": {},
   "outputs": [
    {
     "name": "stdout",
     "output_type": "stream",
     "text": [
      "[[1.   0.5  1.3  0.  ]\n",
      " [1.   0.   1.   0.68]]\n"
     ]
    }
   ],
   "source": [
    "# add a column of 1's for the biased term.\n",
    "a2_biased = np.hstack((bias, a2))\n",
    "print(a2_biased)"
   ]
  },
  {
   "cell_type": "code",
   "execution_count": 12,
   "metadata": {},
   "outputs": [
    {
     "name": "stdout",
     "output_type": "stream",
     "text": [
      "[[ 0.87  -0.25   0.16 ]\n",
      " [ 0.296 -0.232  0.64 ]]\n"
     ]
    }
   ],
   "source": [
    "# multiply the a2_biased matrix with the w3 matrix.\n",
    "z3 = np.dot(a2_biased, w3)\n",
    "print(z3)"
   ]
  },
  {
   "cell_type": "code",
   "execution_count": 13,
   "metadata": {
    "scrolled": true
   },
   "outputs": [
    {
     "name": "stdout",
     "output_type": "stream",
     "text": [
      "[[2.38691085 0.77880078 1.17351087]\n",
      " [1.34447016 0.79294612 1.89648088]]\n"
     ]
    }
   ],
   "source": [
    "# find the e^z3 matrix.\n",
    "e_z3 = np.exp(z3)\n",
    "print(e_z3)"
   ]
  },
  {
   "cell_type": "code",
   "execution_count": 14,
   "metadata": {},
   "outputs": [
    {
     "name": "stdout",
     "output_type": "stream",
     "text": [
      "[[4.33922251 4.03389716]]\n"
     ]
    }
   ],
   "source": [
    "# find the sum of the rows of e^z3.\n",
    "rowSum = np.array([np.sum(e_z3, axis = 1)])\n",
    "print(rowSum)"
   ]
  },
  {
   "cell_type": "code",
   "execution_count": 15,
   "metadata": {},
   "outputs": [],
   "source": [
    "# softmax function.\n",
    "def softmax(x):\n",
    "    e_x = np.exp(x)\n",
    "    sumOfRows = np.array([np.sum(e_x, axis = 1)])\n",
    "    reshaped = np.reshape(sumOfRows, (2,1))\n",
    "    return e_x / reshaped"
   ]
  },
  {
   "cell_type": "code",
   "execution_count": 16,
   "metadata": {},
   "outputs": [
    {
     "name": "stdout",
     "output_type": "stream",
     "text": [
      "[[0.550078   0.17947934 0.27044266]\n",
      " [0.33329312 0.19657073 0.47013615]]\n"
     ]
    }
   ],
   "source": [
    "# run the z3 matrix through the softmax function.\n",
    "a3 = softmax(z3)\n",
    "print(a3)"
   ]
  },
  {
   "cell_type": "code",
   "execution_count": null,
   "metadata": {},
   "outputs": [],
   "source": []
  }
 ],
 "metadata": {
  "kernelspec": {
   "display_name": "Python 3",
   "language": "python",
   "name": "python3"
  },
  "language_info": {
   "codemirror_mode": {
    "name": "ipython",
    "version": 3
   },
   "file_extension": ".py",
   "mimetype": "text/x-python",
   "name": "python",
   "nbconvert_exporter": "python",
   "pygments_lexer": "ipython3",
   "version": "3.6.8"
  }
 },
 "nbformat": 4,
 "nbformat_minor": 2
}
